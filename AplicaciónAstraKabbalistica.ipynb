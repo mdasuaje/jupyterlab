{
  "nbformat": 4,
  "nbformat_minor": 0,
  "metadata": {
    "colab": {
      "provenance": [],
      "authorship_tag": "ABX9TyMRextzM3ZH1cUDc/W7vhNb",
      "include_colab_link": true
    },
    "kernelspec": {
      "name": "python3",
      "display_name": "Python 3"
    },
    "language_info": {
      "name": "python"
    }
  },
  "cells": [
    {
      "cell_type": "markdown",
      "metadata": {
        "id": "view-in-github",
        "colab_type": "text"
      },
      "source": [
        "<a href=\"https://colab.research.google.com/github/mdasuaje/jupyterlab/blob/master/Aplicaci%C3%B3nAstraKabbalistica.ipynb\" target=\"_parent\"><img src=\"https://colab.research.google.com/assets/colab-badge.svg\" alt=\"Open In Colab\"/></a>"
      ]
    },
    {
      "cell_type": "markdown",
      "source": [
        "# Cuaderno de Trabajo: Fase 1 - Hito 1 - Documentación de Enseñanzas\n",
        "# https://jupyter.aws.amazon.com/notebooks/Fase1-Hito1-DocumentacionEnsenanzas.ipynb\n",
        "\n",
        "\"\"\"\n",
        "Contenido del enlace [1]:\n",
        "https://github.com/jupyterlab/jupyterlab/issues/3224\n",
        "\n",
        "allowing copy/paste in right click menu in notebook #3224 - GitHub\n",
        "I usually select some text in the cell (input / output), then right-click in order to copy/paste. However, jupyter notebook (in jupyter lab) ...\n",
        "\n",
        "[Comentarios y discusión sobre la funcionalidad de copiar/pegar en JupyterLab]\n",
        "\"\"\"\n",
        "\n",
        "# Objetivos y Requisitos\n",
        "# [Describir los objetivos específicos y requisitos clave para este hito]\n",
        "\n",
        "# Enfoque Técnico\n",
        "# [Detallar el enfoque técnico, arquitectura, servicios de AWS, algoritmos, etc. que se utilizarán]\n",
        "\n",
        "# Plan de Trabajo\n",
        "# [Desglosar las tareas específicas, estimaciones de tiempo, dependencias, etc.]\n",
        "\n",
        "# Hitos Internos y Entregables\n",
        "# [Establecer hitos internos y entregables clave para el equipo]\n",
        "\n",
        "# Riesgos y Mitigaciones\n",
        "# [Identificar posibles riesgos y estrategias de mitigación]\n",
        "\n",
        "# Criterios de Aceptación\n",
        "# [Definir los criterios de aceptación para considerar el hito como completado]\n",
        "\n",
        "# Recursos y Herramientas\n",
        "# [Listar los recursos, herramientas, servicios de AWS, etc. requeridos]\n",
        "\n",
        "# Consideraciones Adicionales\n",
        "# [Cualquier otra consideración relevante para este hito]"
      ],
      "metadata": {
        "id": "OANO1gR0fRNB"
      }
    },
    {
      "cell_type": "markdown",
      "source": [
        "# Cuaderno de Trabajo: Fase 1 - Hito 2 - Diseño de Arquitectura de Nube\n",
        "# https://jupyter.aws.amazon.com/notebooks/Fase1-Hito2-DisenioArquitecturaNube.ipynb\n",
        "\n",
        "\"\"\"\n",
        "Contenido del enlace [2]:\n",
        "https://www.reddit.com/r/PromptEngineering/comments/1aqv0p2/making_a_horizontal_jupyter_notebook_for_prompt/\n",
        "\n",
        "Making a Horizontal Jupyter Notebook for Prompt Engineering - Reddit\n",
        "Is it that you're copy/pasting prompt versions into cells and having it horizontal would just make for a better viewing experience or what?\n",
        "\n",
        "[Discusión sobre la idea de un Jupyter Notebook horizontal para Prompt Engineering]\n",
        "\"\"\"\n",
        "\n",
        "# Objetivos y Requisitos\n",
        "# [Describir los objetivos específicos y requisitos clave para este hito]\n",
        "\n",
        "# Enfoque Técnico\n",
        "# [Detallar el enfoque técnico, arquitectura, servicios de AWS, algoritmos, etc. que se utilizarán]\n",
        "\n",
        "# Plan de Trabajo\n",
        "# [Desglosar las tareas específicas, estimaciones de tiempo, dependencias, etc.]\n",
        "\n",
        "# Hitos Internos y Entregables\n",
        "# [Establecer hitos internos y entregables clave para el equipo]\n",
        "\n",
        "# Riesgos y Mitigaciones\n",
        "# [Identificar posibles riesgos y estrategias de mitigación]\n",
        "\n",
        "# Criterios de Aceptación\n",
        "# [Definir los criterios de aceptación para considerar el hito como completado]\n",
        "\n",
        "# Recursos y Herramientas\n",
        "# [Listar los recursos, herramientas, servicios de AWS, etc. requeridos]\n",
        "\n",
        "# Consideraciones Adicionales\n",
        "# [Cualquier otra consideración relevante para este hito]"
      ],
      "metadata": {
        "id": "VsJEqvFAf4pa"
      }
    },
    {
      "cell_type": "markdown",
      "source": [
        "# Cuaderno de Trabajo: Fase 1 - Hito 3 - Definición de Requisitos\n",
        "# https://jupyter.aws.amazon.com/notebooks/Fase1-Hito3-DefinicionRequisitos.ipynb\n",
        "\n",
        "\"\"\"\n",
        "Contenido del enlace [3]:\n",
        "https://www.youtube.com/watch?v=ayzE9GSuf2U\n",
        "\n",
        "Prompt Engineering Part 2: Python and Jupyter Introduction - YouTube\n",
        "A quick introduction to Python and Jupyter for prompt engineering, essential tools for working ...\n",
        "\n",
        "[Video introductorio sobre Python y Jupyter para Prompt Engineering]\n",
        "\"\"\"\n",
        "\n",
        "# Objetivos y Requisitos\n",
        "# [Describir los objetivos específicos y requisitos clave para este hito]\n",
        "\n",
        "# Enfoque Técnico\n",
        "# [Detallar el enfoque técnico, arquitectura, servicios de AWS, algoritmos, etc. que se utilizarán]\n",
        "\n",
        "# Plan de Trabajo\n",
        "# [Desglosar las tareas específicas, estimaciones de tiempo, dependencias, etc.]\n",
        "\n",
        "# Hitos Internos y Entregables\n",
        "# [Establecer hitos internos y entregables clave para el equipo]\n",
        "\n",
        "# Riesgos y Mitigaciones\n",
        "# [Identificar posibles riesgos y estrategias de mitigación]\n",
        "\n",
        "# Criterios de Aceptación\n",
        "# [Definir los criterios de aceptación para considerar el hito como completado]\n",
        "\n",
        "# Recursos y Herramientas\n",
        "# [Listar los recursos, herramientas, servicios de AWS, etc. requeridos]\n",
        "\n",
        "# Consideraciones Adicionales\n",
        "# [Cualquier otra consideración relevante para este hito]"
      ],
      "metadata": {
        "id": "zNxskgOMf70i"
      }
    },
    {
      "cell_type": "markdown",
      "source": [
        "# Cuaderno de Trabajo: Fase 2 - Hito 4 - Infraestructura de Nube\n",
        "# https://jupyter.aws.amazon.com/notebooks/Fase2-Hito4-InfraestructuraNube.ipynb\n",
        "\n",
        "\"\"\"\n",
        "Contenido del enlace [4]:\n",
        "https://discourse.jupyter.org/t/copy-paste-in-jupyterlab-terminal/2711\n",
        "\n",
        "Copy / paste in jupyterlab terminal - Jupyter Community Forum\n",
        "Currently in terminals I can paste using Ctrl-V, but in order to copy I need to use Shift-RightClick and choose the Copy menu item.\n",
        "\n",
        "[Discusión sobre la funcionalidad de copiar/pegar en el terminal de JupyterLab]\n",
        "\"\"\"\n",
        "\n",
        "# Objetivos y Requisitos\n",
        "# [Describir los objetivos específicos y requisitos clave para este hito]\n",
        "\n",
        "# Enfoque Técnico\n",
        "# [Detallar el enfoque técnico, arquitectura, servicios de AWS, algoritmos, etc. que se utilizarán]\n",
        "\n",
        "# Plan de Trabajo\n",
        "# [Desglosar las tareas específicas, estimaciones de tiempo, dependencias, etc.]\n",
        "\n",
        "# Hitos Internos y Entregables\n",
        "# [Establecer hitos internos y entregables clave para el equipo]\n",
        "\n",
        "# Riesgos y Mitigaciones\n",
        "# [Identificar posibles riesgos y estrategias de mitigación]\n",
        "\n",
        "# Criterios de Aceptación\n",
        "# [Definir los criterios de aceptación para considerar el hito como completado]\n",
        "\n",
        "# Recursos y Herramientas\n",
        "# [Listar los recursos, herramientas, servicios de AWS, etc. requeridos]\n",
        "\n",
        "# Consideraciones Adicionales\n",
        "# [Cualquier otra consideración relevante para este hito]"
      ],
      "metadata": {
        "id": "AzLElPSpgByG"
      }
    },
    {
      "cell_type": "markdown",
      "source": [
        "# Cuaderno de Trabajo: Fase 2 - Hito 5 - Integración de Datos Astronómicos\n",
        "# https://jupyter.aws.amazon.com/notebooks/Fase2-Hito5-IntegracionDatosAstronomicos.ipynb\n",
        "\n",
        "\"\"\"\n",
        "Contenido del enlace [5]:\n",
        "https://towardsdatascience.com/copy-paste-a-dataframe-with-pd-replicator-24e625fc9d53\n",
        "\n",
        "Copy/Paste a DataFrame with pd-replicator - Towards Data Science\n",
        "Overview. pd-replicator adds a copy button to a DataFrame output in Jupyter, which lets you copy that DataFrame to your clipboard in a format ...\n",
        "\n",
        "[Artículo sobre la herramienta pd-replicator para copiar/pegar DataFrames en Jupyter]\n",
        "\"\"\"\n",
        "\n",
        "# Objetivos y Requisitos\n",
        "# [Describir los objetivos específicos y requisitos clave para este hito]\n",
        "\n",
        "# Enfoque Técnico\n",
        "# [Detallar el enfoque técnico, arquitectura, servicios de AWS, algoritmos, etc. que se utilizarán]\n",
        "\n",
        "# Plan de Trabajo\n",
        "# [Desglosar las tareas específicas, estimaciones de tiempo, dependencias, etc.]\n",
        "\n",
        "# Hitos Internos y Entregables\n",
        "# [Establecer hitos internos y entregables clave para el equipo]\n",
        "\n",
        "# Riesgos y Mitigaciones\n",
        "# [Identificar posibles riesgos y estrategias de mitigación]\n",
        "\n",
        "# Criterios de Aceptación\n",
        "# [Definir los criterios de aceptación para considerar el hito como completado]\n",
        "\n",
        "# Recursos y Herramientas\n",
        "# [Listar los recursos, herramientas, servicios de AWS, etc. requeridos]\n",
        "\n",
        "# Consideraciones Adicionales\n",
        "# [Cualquier otra consideración relevante para este hito]"
      ],
      "metadata": {
        "id": "D_9RmQBogIxl"
      }
    },
    {
      "cell_type": "markdown",
      "source": [],
      "metadata": {
        "id": "y8cTeJNPgQXb"
      }
    }
  ]
}